{
  "nbformat": 4,
  "nbformat_minor": 0,
  "metadata": {
    "colab": {
      "private_outputs": true,
      "provenance": [],
      "gpuType": "T4"
    },
    "kernelspec": {
      "name": "python3",
      "display_name": "Python 3"
    },
    "language_info": {
      "name": "python"
    },
    "accelerator": "GPU"
  },
  "cells": [
    {
      "cell_type": "code",
      "execution_count": null,
      "metadata": {
        "id": "sCxlAtHNCPlE"
      },
      "outputs": [],
      "source": [
        "from google.colab import files\n",
        "\n",
        "# Upload the kaggle.json file\n",
        "files.upload()"
      ]
    },
    {
      "cell_type": "markdown",
      "source": [],
      "metadata": {
        "id": "VzN6-WOqD1hn"
      }
    },
    {
      "cell_type": "code",
      "source": [
        "import os\n",
        "\n",
        "# Make a directory for Kaggle API credentials\n",
        "!mkdir -p ~/.kaggle\n",
        "\n",
        "# Move kaggle.json to the directory\n",
        "!mv kaggle.json ~/.kaggle/\n",
        "\n",
        "# Set permissions (important for security)\n",
        "!chmod 600 ~/.kaggle/kaggle.json"
      ],
      "metadata": {
        "id": "8Yyqe6suEYm8"
      },
      "execution_count": null,
      "outputs": []
    },
    {
      "cell_type": "code",
      "source": [
        "!pip install kaggle"
      ],
      "metadata": {
        "id": "RGFfX1H_EdW8"
      },
      "execution_count": null,
      "outputs": []
    },
    {
      "cell_type": "code",
      "source": [
        "#!kaggle datasets download -d nirmalsankalana/plant-diseases-training-dataset"
      ],
      "metadata": {
        "id": "4fuw7bxnEnn_"
      },
      "execution_count": null,
      "outputs": []
    },
    {
      "cell_type": "code",
      "source": [
        "!kaggle datasets download -d vipoooool/new-plant-diseases-dataset"
      ],
      "metadata": {
        "id": "0kPU8NEQ-iY0"
      },
      "execution_count": null,
      "outputs": []
    },
    {
      "cell_type": "code",
      "source": [
        "!unzip new-plant-diseases-dataset.zip -d plant_disease_data"
      ],
      "metadata": {
        "id": "QVcYfX4y-k3c"
      },
      "execution_count": null,
      "outputs": []
    },
    {
      "cell_type": "code",
      "source": [
        "#!unzip plant-diseases-training-dataset.zip -d dataset/"
      ],
      "metadata": {
        "id": "cC9UN7mpEy7_"
      },
      "execution_count": null,
      "outputs": []
    },
    {
      "cell_type": "code",
      "source": [
        "import os\n",
        "os.listdir()"
      ],
      "metadata": {
        "id": "E-daVY-CFf8n"
      },
      "execution_count": null,
      "outputs": []
    },
    {
      "cell_type": "code",
      "source": [
        "import zipfile\n",
        "\n",
        "# Extract the new dataset ZIP file to \"dataset/\" folder\n",
        "with zipfile.ZipFile(\"new-plant-diseases-dataset.zip\", \"r\") as zip_ref:\n",
        "    zip_ref.extractall(\"dataset/\")"
      ],
      "metadata": {
        "id": "MaOSAWdT-0oI"
      },
      "execution_count": null,
      "outputs": []
    },
    {
      "cell_type": "code",
      "source": [
        "\"\"\"import zipfile\n",
        "\n",
        "# Extract the ZIP file to \"dataset/\" folder\n",
        "with zipfile.ZipFile(\"plant-diseases-training-dataset.zip\", \"r\") as zip_ref:\n",
        "    zip_ref.extractall(\"dataset/\")\n",
        "\n",
        "# List extracted files\n",
        "import os\n",
        "os.listdir(\"dataset/\")"
      ],
      "metadata": {
        "id": "oXsUznioFnrc"
      },
      "execution_count": null,
      "outputs": []
    },
    {
      "cell_type": "code",
      "source": [
        "os.listdir(\"dataset/\")"
      ],
      "metadata": {
        "id": "xPrdDpPHF5L7"
      },
      "execution_count": null,
      "outputs": []
    },
    {
      "cell_type": "code",
      "source": [
        "import os\n",
        "\n",
        "print(os.listdir(\"dataset/\"))  # Check what is inside the \"dataset\" folder"
      ],
      "metadata": {
        "id": "mkqdj11cF-wq"
      },
      "execution_count": null,
      "outputs": []
    },
    {
      "cell_type": "code",
      "source": [
        "print(os.listdir(\"dataset/New Plant Diseases Dataset(Augmented)/\"))"
      ],
      "metadata": {
        "id": "5fGuHhYMBrhZ"
      },
      "execution_count": null,
      "outputs": []
    },
    {
      "cell_type": "code",
      "source": [
        "!pip install tensorflow"
      ],
      "metadata": {
        "id": "S0Lkbj-GxoKX"
      },
      "execution_count": null,
      "outputs": []
    },
    {
      "cell_type": "code",
      "source": [
        "import matplotlib.pyplot as plt\n",
        "import os\n",
        "import random\n",
        "import numpy as np\n",
        "from tensorflow.keras.preprocessing.image import load_img, img_to_array\n",
        "\n",
        "# Define the dataset path\n",
        "train_dir = \"/content/plant_disease_data/New Plant Diseases Dataset(Augmented)/New Plant Diseases Dataset(Augmented)/train\"\n",
        "\n",
        "# Get class names\n",
        "class_names = os.listdir(train_dir)\n",
        "\n",
        "# Select a random class\n",
        "random_class = random.choice(class_names)\n",
        "class_path = os.path.join(train_dir, random_class)\n",
        "\n",
        "# Get some images from the selected class\n",
        "image_files = os.listdir(class_path)\n",
        "random_images = random.sample(image_files, 5)  # Select 5 random images\n",
        "\n",
        "# Plot images\n",
        "fig, axes = plt.subplots(1, 5, figsize=(15, 5))\n",
        "for i, img_file in enumerate(random_images):\n",
        "    img_path = os.path.join(class_path, img_file)\n",
        "    img = load_img(img_path, target_size=(224, 224))  # Resize image\n",
        "    axes[i].imshow(img)\n",
        "    axes[i].axis(\"off\")\n",
        "    axes[i].set_title(random_class)  # Show class label\n",
        "\n",
        "plt.tight_layout()\n",
        "plt.show()"
      ],
      "metadata": {
        "id": "uJvEvli3x_h7"
      },
      "execution_count": null,
      "outputs": []
    },
    {
      "cell_type": "code",
      "source": [
        "import tensorflow as tf\n",
        "from tensorflow.keras.preprocessing.image import ImageDataGenerator\n",
        "from tensorflow.keras.applications import VGG16\n",
        "from tensorflow.keras.models import Model\n",
        "from tensorflow.keras.layers import Dense, Flatten, Dropout, BatchNormalization, GlobalAveragePooling2D\n",
        "from tensorflow.keras.optimizers import AdamW\n",
        "from tensorflow.keras.callbacks import ReduceLROnPlateau, EarlyStopping, LearningRateScheduler\n",
        "import numpy as np"
      ],
      "metadata": {
        "id": "KMYodECFxjdM"
      },
      "execution_count": null,
      "outputs": []
    },
    {
      "cell_type": "code",
      "source": [
        "import os\n",
        "base_dir = \"/content/plant_disease_data/New Plant Diseases Dataset(Augmented)/New Plant Diseases Dataset(Augmented)/train\"\n",
        "print(os.listdir(base_dir))"
      ],
      "metadata": {
        "id": "bwXH2BTkz4d6"
      },
      "execution_count": null,
      "outputs": []
    },
    {
      "cell_type": "code",
      "source": [
        "from tensorflow.keras.preprocessing.image import ImageDataGenerator\n",
        "\n",
        "# Define data augmentation settings\n",
        "datagen = ImageDataGenerator(\n",
        "    rotation_range=30,\n",
        "    width_shift_range=0.2,\n",
        "    height_shift_range=0.2,\n",
        "    shear_range=0.2,\n",
        "    zoom_range=0.2,\n",
        "    horizontal_flip=True,\n",
        "    fill_mode=\"nearest\"\n",
        ")\n",
        "\n",
        " # Load a single image\n",
        "sample_img_path = os.path.join(class_path, random_images[0])\n",
        "sample_img = load_img(sample_img_path, target_size=(224, 224))\n",
        "sample_array = img_to_array(sample_img)\n",
        "sample_array = np.expand_dims(sample_array, axis=0)  # Add batch dimension\n",
        "\n",
        "# Generate augmented images\n",
        "fig, axes = plt.subplots(1, 5, figsize=(15, 5))\n",
        "for i, batch in enumerate(datagen.flow(sample_array, batch_size=1)):\n",
        "    aug_img = batch[0].astype(\"uint8\")  # Convert to uint8 format for display\n",
        "    axes[i].imshow(aug_img)\n",
        "    axes[i].axis(\"off\")\n",
        "    if i == 4:  # Stop after 5 images\n",
        "        break\n",
        "\n",
        "plt.tight_layout()\n",
        "plt.show()"
      ],
      "metadata": {
        "id": "ZElJPmi52Zuq"
      },
      "execution_count": null,
      "outputs": []
    },
    {
      "cell_type": "code",
      "source": [
        "import tensorflow as tf\n",
        "from tensorflow.keras.preprocessing.image import ImageDataGenerator\n",
        "from tensorflow.keras.applications import VGG16\n",
        "from tensorflow.keras.models import Model\n",
        "from tensorflow.keras.layers import Dense, Flatten, Dropout, BatchNormalization, GlobalAveragePooling2D\n",
        "from tensorflow.keras.optimizers import AdamW\n",
        "from tensorflow.keras.callbacks import ReduceLROnPlateau, EarlyStopping, LearningRateScheduler\n",
        "import numpy as np"
      ],
      "metadata": {
        "id": "r1kxwJSHH10u"
      },
      "execution_count": null,
      "outputs": []
    },
    {
      "cell_type": "code",
      "source": [
        "train_datagen = ImageDataGenerator(\n",
        "    rescale=1.0/255,\n",
        "    rotation_range=45,\n",
        "    width_shift_range=0.3,\n",
        "    height_shift_range=0.3,\n",
        "    shear_range=0.3,\n",
        "    zoom_range=0.3,\n",
        "    horizontal_flip=True,\n",
        "    vertical_flip=True,\n",
        "    fill_mode=\"nearest\"\n",
        ")\n",
        "\n",
        "valid_datagen = ImageDataGenerator(rescale=1.0/255)\n",
        "\n",
        "train_dir = \"/content/plant_disease_data/New Plant Diseases Dataset(Augmented)/New Plant Diseases Dataset(Augmented)/train\"\n",
        "valid_dir = \"/content/plant_disease_data/New Plant Diseases Dataset(Augmented)/New Plant Diseases Dataset(Augmented)/valid\"\n",
        "\n",
        "train_generator = train_datagen.flow_from_directory(\n",
        "    train_dir, target_size=(224, 224), batch_size=32, class_mode=\"categorical\"\n",
        ")\n",
        "\n",
        "valid_generator = valid_datagen.flow_from_directory(\n",
        "    valid_dir, target_size=(224, 224), batch_size=32, class_mode=\"categorical\"\n",
        ")\n"
      ],
      "metadata": {
        "id": "13MQSFkCH5B2"
      },
      "execution_count": null,
      "outputs": []
    },
    {
      "cell_type": "code",
      "source": [
        "import seaborn as sns\n",
        "import matplotlib.pyplot as plt\n",
        "from collections import Counter\n",
        "\n",
        "class_counts = Counter(valid_generator.classes)\n",
        "plt.figure(figsize=(12,5))\n",
        "sns.barplot(x=list(class_counts.keys()), y=list(class_counts.values()))\n",
        "plt.xticks(ticks=range(len(class_counts)), labels=valid_generator.class_indices.keys(), rotation=90)\n",
        "plt.xlabel(\"Classes\")\n",
        "plt.ylabel(\"Number of Images\")\n",
        "plt.title(\"Class Distribution\")\n",
        "plt.show()"
      ],
      "metadata": {
        "id": "QCFcbhZa39OH"
      },
      "execution_count": null,
      "outputs": []
    },
    {
      "cell_type": "code",
      "source": [
        "base_model = VGG16(weights=\"imagenet\", include_top=False, input_shape=(224, 224, 3))\n",
        "\n",
        "# 🔥 Unfreeze Last 5 Layers for Fine-Tuning\n",
        "for layer in base_model.layers[:-5]:\n",
        "    layer.trainable = False"
      ],
      "metadata": {
        "id": "MRbmfMzwIGLY"
      },
      "execution_count": null,
      "outputs": []
    },
    {
      "cell_type": "code",
      "source": [
        "x = base_model.output\n",
        "x = GlobalAveragePooling2D()(x)  # ✅ Better than Flatten\n",
        "x = Dense(1024, activation=\"swish\")(x)  # ✅ Swish > ReLU\n",
        "x = BatchNormalization()(x)  # ✅ Normalize activations\n",
        "x = Dropout(0.5)(x)  # ✅ Reduce overfitting\n",
        "\n",
        "x = Dense(512, activation=\"swish\")(x)\n",
        "x = BatchNormalization()(x)\n",
        "x = Dropout(0.3)(x)\n",
        "\n",
        "output_layer = Dense(train_generator.num_classes, activation=\"softmax\")(x)\n",
        "\n",
        "model = Model(inputs=base_model.input, outputs=output_layer)"
      ],
      "metadata": {
        "id": "oESKEmb0INNA"
      },
      "execution_count": null,
      "outputs": []
    },
    {
      "cell_type": "code",
      "source": [
        "model.compile(\n",
        "    optimizer=AdamW(learning_rate=0.0001, weight_decay=1e-5),\n",
        "    loss=\"categorical_crossentropy\",\n",
        "    metrics=[\"accuracy\"]\n",
        ")"
      ],
      "metadata": {
        "id": "MTgbrLQMITSi"
      },
      "execution_count": null,
      "outputs": []
    },
    {
      "cell_type": "code",
      "source": [
        "# 🔥 Reduce LR if No Improvement\n",
        "reduce_lr = ReduceLROnPlateau(monitor=\"val_loss\", factor=0.5, patience=2, verbose=1, min_lr=1e-6)\n",
        "\n",
        "# 🔥 Stop Training if No Improvement\n",
        "early_stop = EarlyStopping(monitor=\"val_loss\", patience=4, restore_best_weights=True)\n",
        "\n",
        "# 🔥 Cyclical Learning Rate (CLR) for Fast Convergence\n",
        "def clr_schedule(epoch):\n",
        "    lr = 0.0001 * (0.85 ** epoch)  # Exponential Decay\n",
        "    return lr\n",
        "\n",
        "clr = LearningRateScheduler(clr_schedule)"
      ],
      "metadata": {
        "id": "d7PDbK8pa-KM"
      },
      "execution_count": null,
      "outputs": []
    },
    {
      "cell_type": "code",
      "source": [
        "history = model.fit(\n",
        "    train_generator,\n",
        "    validation_data=valid_generator,\n",
        "    epochs=10,  # 🔥 10 Epochs Only\n",
        "    callbacks=[reduce_lr, early_stop, clr],\n",
        "    verbose=1\n",
        ")"
      ],
      "metadata": {
        "id": "XTI2_7bYbEcr"
      },
      "execution_count": null,
      "outputs": []
    },
    {
      "cell_type": "code",
      "source": [
        "import matplotlib.pyplot as plt\n",
        "\n",
        "# Plot Accuracy\n",
        "plt.figure(figsize=(10, 5))\n",
        "plt.plot(history.history['accuracy'], label='Train Accuracy')\n",
        "plt.plot(history.history['val_accuracy'], label='Validation Accuracy')\n",
        "plt.xlabel(\"Epochs\")\n",
        "plt.ylabel(\"Accuracy\")\n",
        "plt.legend()\n",
        "plt.title(\"Model Accuracy\")\n",
        "plt.show()"
      ],
      "metadata": {
        "id": "XUV3CqMa7F5E"
      },
      "execution_count": null,
      "outputs": []
    },
    {
      "cell_type": "code",
      "source": [
        "import numpy as np\n",
        "import seaborn as sns\n",
        "from sklearn.metrics import confusion_matrix, classification_report\n",
        "\n",
        "# Get true labels & predictions\n",
        "y_true = valid_generator.classes\n",
        "y_pred = model.predict(valid_generator)\n",
        "y_pred_classes = np.argmax(y_pred, axis=1)\n",
        "\n",
        "# Confusion Matrix\n",
        "conf_mat = confusion_matrix(y_true, y_pred_classes)\n",
        "plt.figure(figsize=(12, 6))\n",
        "sns.heatmap(conf_mat, annot=True, fmt='d', cmap='Blues', xticklabels=valid_generator.class_indices.keys(), yticklabels=valid_generator.class_indices.keys())\n",
        "plt.xlabel(\"Predicted Label\")\n",
        "plt.ylabel(\"True Label\")\n",
        "plt.title(\"Confusion Matrix\")\n",
        "plt.show()\n",
        "\n",
        "# Classification Report\n",
        "print(classification_report(y_true, y_pred_classes, target_names=valid_generator.class_indices.keys()))"
      ],
      "metadata": {
        "id": "Agt3U4Jd7LfQ"
      },
      "execution_count": null,
      "outputs": []
    },
    {
      "cell_type": "code",
      "source": [
        "import random\n",
        "from tensorflow.keras.preprocessing import image\n",
        "\n",
        "# Get class labels\n",
        "class_labels = list(valid_generator.class_indices.keys())\n",
        "\n",
        "# Select random images\n",
        "fig, axes = plt.subplots(3, 3, figsize=(10, 10))\n",
        "for i in range(9):\n",
        "    img_path, label = valid_generator.filepaths[i], class_labels[valid_generator.labels[i]]\n",
        "    img = image.load_img(img_path, target_size=(224, 224))\n",
        "    img_array = image.img_to_array(img) / 255.0\n",
        "    img_array = np.expand_dims(img_array, axis=0)\n",
        "\n",
        "    # Predict\n",
        "    pred = model.predict(img_array)\n",
        "    predicted_label = class_labels[np.argmax(pred)]\n",
        "\n",
        "     # Show Image\n",
        "    ax = axes[i//3, i%3]\n",
        "    ax.imshow(img)\n",
        "    ax.set_title(f\"Actual: {label}\\nPredicted: {predicted_label}\")\n",
        "    ax.axis(\"off\")\n",
        "\n",
        "plt.tight_layout()\n",
        "plt.show()"
      ],
      "metadata": {
        "id": "fH-rWOJH7by0"
      },
      "execution_count": null,
      "outputs": []
    },
    {
      "cell_type": "code",
      "source": [
        "misclassified_idx = np.where(y_true != y_pred_classes)[0]\n",
        "\n",
        "fig, axes = plt.subplots(3, 3, figsize=(10, 10))\n",
        "for i, idx in enumerate(misclassified_idx[:9]):\n",
        "    img_path = valid_generator.filepaths[idx]\n",
        "    img = image.load_img(img_path, target_size=(224, 224))\n",
        "    ax = axes[i//3, i%3]\n",
        "    ax.imshow(img)\n",
        "    ax.set_title(f\"True: {class_labels[y_true[idx]]}\\nPred: {class_labels[y_pred_classes[idx]]}\")\n",
        "    ax.axis(\"off\")\n",
        "\n",
        "plt.tight_layout()\n",
        "plt.show()"
      ],
      "metadata": {
        "id": "rtzmwZFR7wUp"
      },
      "execution_count": null,
      "outputs": []
    },
    {
      "cell_type": "code",
      "source": [
        "# Save the Model\n",
        "model.save(\"plant_disease_vgg16_optimized.h5\")\n",
        "print(\"✅ Model training complete & saved as 'plant_disease_vgg16_optimized.h5'\")"
      ],
      "metadata": {
        "id": "80I-Bjlr7xbO"
      },
      "execution_count": null,
      "outputs": []
    },
    {
      "cell_type": "code",
      "source": [
        "model.save(\"plant_disease_vgg16_optimized.keras\")\n",
        "print(\"✅ Model training complete & saved as 'plant_disease_vgg16_optimized.keras'\")"
      ],
      "metadata": {
        "id": "j8NG4DNu70k1"
      },
      "execution_count": null,
      "outputs": []
    },
    {
      "cell_type": "code",
      "source": [
        "from tensorflow.keras.models import load_model\n",
        "\n",
        "model = load_model(\"/content/plant_disease_vgg16_optimized.h5\")\n",
        "model = load_model(\"/content/plant_disease_vgg16_optimized.keras\")"
      ],
      "metadata": {
        "id": "OL74khuO74XO"
      },
      "execution_count": null,
      "outputs": []
    },
    {
      "cell_type": "code",
      "source": [
        "from tensorflow.keras.models import load_model\n",
        "\n",
        "model = load_model(\"/content/plant_disease_vgg16_optimized.h5\")\n",
        "img_path = \"/content/istockphoto-172304886-612x612.jpg\"\n",
        "img = image.load_img(img_path, target_size=(224, 224))\n",
        "img_array = image.img_to_array(img) / 255.0\n",
        "img_array = np.expand_dims(img_array, axis=0)\n",
        "\n",
        "pred = model.predict(img_array)\n",
        "predicted_class = class_labels[np.argmax(pred)]\n",
        "print(\"Predicted Class:\", predicted_class)"
      ],
      "metadata": {
        "id": "itwtia8s7_S3"
      },
      "execution_count": null,
      "outputs": []
    },
    {
      "cell_type": "code",
      "source": [
        "import numpy as np\n",
        "from tensorflow.keras.models import load_model\n",
        "from tensorflow.keras.preprocessing import image\n",
        "import json\n",
        "\n",
        "# Load trained model\n",
        "model = load_model(\"/content/plant_disease_vgg16_optimized.h5\")\n",
        "\n",
        "# Load class labels (Make sure this matches your training order)\n",
        "class_labels = [\n",
        "    \"Apple Scab\", \"Apple Black Rot\", \"Apple Cedar Rust\", \"Apple Healthy\",\n",
        "    \"Blueberry Healthy\", \"Cherry Powdery Mildew\", \"Cherry Healthy\",\n",
        "    \"Corn Gray Leaf Spot\", \"Corn Common Rust\", \"Corn Northern Leaf Blight\", \"Corn Healthy\",\n",
        "    \"Grape Black Rot\", \"Grape Esca (Black Measles)\", \"Grape Leaf Blight\", \"Grape Healthy\",\n",
        "    \"Orange Citrus Greening\", \"Peach Bacterial Spot\", \"Peach Healthy\",\n",
        "    \"Pepper Bell Bacterial Spot\", \"Pepper Bell Healthy\",\n",
        "    \"Potato Early Blight\", \"Potato Late Blight\", \"Potato Healthy\",\n",
        "    \"Raspberry Healthy\", \"Soybean Healthy\",\n",
        "    \"Squash Powdery Mildew\",\n",
        "    \"Strawberry Leaf Scorch\", \"Strawberry Healthy\",\n",
        "    \"Tomato Bacterial Spot\", \"Tomato Early Blight\", \"Tomato Late Blight\",\n",
        "    \"Tomato Leaf Mold\", \"Tomato Septoria Leaf Spot\", \"Tomato Spider Mites\", \"Tomato Target Spot\",\n",
        "    \"Tomato Mosaic Virus\", \"Tomato Yellow Leaf Curl Virus\", \"Tomato Healthy\"\n",
        "]\n",
        "\n",
        "# Function for preprocessing image\n",
        "def preprocess_image(img_path):\n",
        "    img = image.load_img(img_path, target_size=(224, 224))\n",
        "    img_array = image.img_to_array(img) / 255.0  # Normalize\n",
        "    img_array = np.expand_dims(img_array, axis=0)\n",
        "    return img_array\n",
        "\n",
        "# Predict function\n",
        "def predict_disease(img_path):\n",
        "    img_array = preprocess_image(img_path)\n",
        "    pred = model.predict(img_array)\n",
        "    predicted_class = class_labels[np.argmax(pred)]\n",
        "    confidence = np.max(pred) * 100  # Confidence percentage\n",
        "    return predicted_class, confidence\n",
        "\n",
        "# Test on an image\n",
        "img_path = \"/content/frogeye-1.jpg\"\n",
        "predicted_class, confidence = predict_disease(img_path)\n",
        "\n",
        "print(f\"Predicted Disease: {predicted_class} ({confidence:.2f}%)\")"
      ],
      "metadata": {
        "id": "71WV2Ywgmi3x"
      },
      "execution_count": null,
      "outputs": []
    },
    {
      "cell_type": "code",
      "source": [
        "# Save the Model\n",
        "model.save(\"plant_disease_vgg16_optimized.h5\")\n",
        "print(\"✅ Model training complete & saved as 'plant_disease_vgg16_optimized.h5'\")"
      ],
      "metadata": {
        "id": "HBy2ZdP9U598"
      },
      "execution_count": null,
      "outputs": []
    },
    {
      "cell_type": "code",
      "source": [
        "model.save(\"plant_disease_vgg16_optimized.keras\")\n",
        "print(\"✅ Model training complete & saved as 'plant_disease_vgg16_optimized.keras'\")"
      ],
      "metadata": {
        "id": "JsGTtvpJFu1j"
      },
      "execution_count": null,
      "outputs": []
    }
  ]
}